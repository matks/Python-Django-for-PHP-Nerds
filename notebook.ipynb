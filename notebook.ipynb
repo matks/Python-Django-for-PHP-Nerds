{
 "cells": [
  {
   "cell_type": "code",
   "execution_count": 9,
   "metadata": {
    "collapsed": false,
    "scrolled": false
   },
   "outputs": [],
   "source": [
    "class MyListLikeThing(object):\n",
    "    \n",
    "    DATABASES = {\n",
    "        \"europe\": [\"uk\", \"fr\", \"nl\", \"de\", \"gr\", \"it\"],\n",
    "        \"americas\": [\"ca\", \"us\", \"mx\", \"vz\", \"ci\", \"co\"],\n",
    "    }\n",
    "    \n",
    "    def __init__(self, db):\n",
    "        self._db = db  # This could be a anything, like a remote datastore\n",
    "        \n",
    "    def __iter__(self):\n",
    "        for country in self.DATABASES[self._db]:\n",
    "            yield country\n",
    "    \n",
    "    def __repr__(self):\n",
    "        return 'My custom list-like object using the \"{}\" database backend.'.format(\n",
    "            self._db\n",
    "        )"
   ]
  },
  {
   "cell_type": "code",
   "execution_count": 8,
   "metadata": {
    "collapsed": false,
    "scrolled": true
   },
   "outputs": [
    {
     "name": "stdout",
     "output_type": "stream",
     "text": [
      "My custom list-like object using the \"americas\" database backend.\n",
      "Code: ca\n",
      "Code: us\n",
      "Code: mx\n",
      "Code: vz\n",
      "Code: ci\n",
      "Code: co\n",
      "['uk', 'fr', 'nl', 'de', 'gr', 'it']\n"
     ]
    }
   ],
   "source": [
    "europe = MyListLikeThing(\"europe\")\n",
    "americas = MyListLikeThing(\"americas\")\n",
    "\n",
    "print(americas)\n",
    "\n",
    "for country in americas:\n",
    "    print(\"Code: \" + country)\n",
    "\n",
    "print(list(europe))"
   ]
  }
 ],
 "metadata": {
  "kernelspec": {
   "display_name": "Python 3",
   "language": "python",
   "name": "python3"
  },
  "language_info": {
   "codemirror_mode": {
    "name": "ipython",
    "version": 3
   },
   "file_extension": ".py",
   "mimetype": "text/x-python",
   "name": "python",
   "nbconvert_exporter": "python",
   "pygments_lexer": "ipython3",
   "version": "3.3.5"
  }
 },
 "nbformat": 4,
 "nbformat_minor": 0
}
